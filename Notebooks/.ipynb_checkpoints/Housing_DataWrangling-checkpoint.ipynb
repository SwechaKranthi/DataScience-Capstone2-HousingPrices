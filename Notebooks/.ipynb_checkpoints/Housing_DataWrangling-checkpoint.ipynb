{
 "cells": [
  {
   "cell_type": "markdown",
   "id": "84cee343",
   "metadata": {},
   "source": [
    "# Capstone 2 Housing Prices - Data Wrangling<a id='Data_wrangling'></a>"
   ]
  },
  {
   "cell_type": "markdown",
   "id": "49f89076",
   "metadata": {},
   "source": [
    "## 1 Data Collection\n",
    "\n",
    "Goal: Organize your data to streamline the next steps of your capstone\n",
    "\n",
    "\n",
    "1.1 Data Loading\n",
    "\n",
    "\n",
    "~~1.2 Data Joining (Not needed as data came in one training set)~~\n",
    "\n",
    "    \n",
    "  "
   ]
  },
  {
   "cell_type": "code",
   "execution_count": 1,
   "id": "3819718f",
   "metadata": {},
   "outputs": [],
   "source": [
    "#imports\n",
    "\n",
    "import pandas as pd\n",
    "import matplotlib.pyplot as plt\n",
    "import seaborn as sns\n",
    "import os\n",
    "\n",
    "\n",
    "import sys\n",
    "sys.path.insert(1, '/Users/swechakranthi/Desktop/Github/DataScience-Capstone2-Housing/library')\n",
    "from sb_utils import save_file"
   ]
  },
  {
   "cell_type": "code",
   "execution_count": 2,
   "id": "48c9467f",
   "metadata": {},
   "outputs": [],
   "source": [
    "#1.1 Data Loading\n",
    "\n",
    "# the supplied CSV data file is the raw_data directory\n",
    "train_data = pd.read_csv('../data/train.csv')\n",
    "test_data = pd.read_csv('../data/test.csv')\n"
   ]
  },
  {
   "cell_type": "code",
   "execution_count": 3,
   "id": "a18b2a2b",
   "metadata": {},
   "outputs": [
    {
     "name": "stdout",
     "output_type": "stream",
     "text": [
      "Number of rows in Training Set: 1460\n",
      "Number of rows in Test Set: 1459 \n"
     ]
    }
   ],
   "source": [
    "# Check data count and view data\n",
    "print(f'Number of rows in Training Set: {train_data.shape[0]}')\n",
    "print(f'Number of rows in Test Set: {test_data.shape[0]} ')\n"
   ]
  },
  {
   "cell_type": "markdown",
   "id": "456971c2",
   "metadata": {},
   "source": [
    "## 2 Data Organization\n",
    "\n",
    "Goal: Create a file structure and add work to the GitHub\n",
    "\n",
    "File Structure:\n",
    "/data => contains all the data sets that come with the project @ https://www.kaggle.com/c/house-prices-advanced-regression-techniques/data\n",
    "\n",
    "/Notebooks => contain various notebooks for this project for each step\n",
    "\n",
    "/Library => contains sb_utils package from capstone 1\n",
    "    "
   ]
  },
  {
   "cell_type": "markdown",
   "id": "5d1fa115",
   "metadata": {},
   "source": [
    "## 3 Data Definition\n",
    "\n",
    "Goal: Gain an understanding of your data features to inform the\n",
    "next steps of your project.\n",
    "\n",
    "3.1 Column names\n",
    "\n",
    "3.2 Data types\n",
    "\n",
    "3.3 Description of the columns\n",
    "\n",
    "3.4 Counts and percents unique values\n",
    "\n",
    "3.5 Ranges of values"
   ]
  },
  {
   "cell_type": "code",
   "execution_count": 4,
   "id": "d19e6efd",
   "metadata": {},
   "outputs": [],
   "source": [
    "#Pandas Profiling Installation Steps\n",
    "\n",
    "# (uncomment and run below if you need to pip install the pandas-profiling library)\n",
    "\n",
    "#import sys\n",
    "#!{sys.executable} -m pip install -U pandas-profiling==2.9.0\n",
    "#!jupyter nbextension enable --py widgetsnbextension\n"
   ]
  },
  {
   "cell_type": "code",
   "execution_count": 5,
   "id": "7cdfde5e",
   "metadata": {},
   "outputs": [
    {
     "name": "stdout",
     "output_type": "stream",
     "text": [
      "***********************************************************************\n",
      "_____Lets take a look at train data set___________________________________________\n",
      "        Id  MSSubClass MSZoning  LotFrontage  LotArea Street Alley LotShape  \\\n",
      "0        1          60       RL         65.0     8450   Pave   NaN      Reg   \n",
      "1        2          20       RL         80.0     9600   Pave   NaN      Reg   \n",
      "2        3          60       RL         68.0    11250   Pave   NaN      IR1   \n",
      "3        4          70       RL         60.0     9550   Pave   NaN      IR1   \n",
      "4        5          60       RL         84.0    14260   Pave   NaN      IR1   \n",
      "...    ...         ...      ...          ...      ...    ...   ...      ...   \n",
      "1455  1456          60       RL         62.0     7917   Pave   NaN      Reg   \n",
      "1456  1457          20       RL         85.0    13175   Pave   NaN      Reg   \n",
      "1457  1458          70       RL         66.0     9042   Pave   NaN      Reg   \n",
      "1458  1459          20       RL         68.0     9717   Pave   NaN      Reg   \n",
      "1459  1460          20       RL         75.0     9937   Pave   NaN      Reg   \n",
      "\n",
      "     LandContour Utilities  ... PoolArea PoolQC  Fence MiscFeature MiscVal  \\\n",
      "0            Lvl    AllPub  ...        0    NaN    NaN         NaN       0   \n",
      "1            Lvl    AllPub  ...        0    NaN    NaN         NaN       0   \n",
      "2            Lvl    AllPub  ...        0    NaN    NaN         NaN       0   \n",
      "3            Lvl    AllPub  ...        0    NaN    NaN         NaN       0   \n",
      "4            Lvl    AllPub  ...        0    NaN    NaN         NaN       0   \n",
      "...          ...       ...  ...      ...    ...    ...         ...     ...   \n",
      "1455         Lvl    AllPub  ...        0    NaN    NaN         NaN       0   \n",
      "1456         Lvl    AllPub  ...        0    NaN  MnPrv         NaN       0   \n",
      "1457         Lvl    AllPub  ...        0    NaN  GdPrv        Shed    2500   \n",
      "1458         Lvl    AllPub  ...        0    NaN    NaN         NaN       0   \n",
      "1459         Lvl    AllPub  ...        0    NaN    NaN         NaN       0   \n",
      "\n",
      "     MoSold YrSold  SaleType  SaleCondition  SalePrice  \n",
      "0         2   2008        WD         Normal     208500  \n",
      "1         5   2007        WD         Normal     181500  \n",
      "2         9   2008        WD         Normal     223500  \n",
      "3         2   2006        WD        Abnorml     140000  \n",
      "4        12   2008        WD         Normal     250000  \n",
      "...     ...    ...       ...            ...        ...  \n",
      "1455      8   2007        WD         Normal     175000  \n",
      "1456      2   2010        WD         Normal     210000  \n",
      "1457      5   2010        WD         Normal     266500  \n",
      "1458      4   2010        WD         Normal     142125  \n",
      "1459      6   2008        WD         Normal     147500  \n",
      "\n",
      "[1460 rows x 81 columns]\n",
      "________________________________________________\n",
      "Here is the list of columns\n",
      "Id\n",
      "MSSubClass\n",
      "MSZoning\n",
      "LotFrontage\n",
      "LotArea\n",
      "Street\n",
      "Alley\n",
      "LotShape\n",
      "LandContour\n",
      "Utilities\n",
      "LotConfig\n",
      "LandSlope\n",
      "Neighborhood\n",
      "Condition1\n",
      "Condition2\n",
      "BldgType\n",
      "HouseStyle\n",
      "OverallQual\n",
      "OverallCond\n",
      "YearBuilt\n",
      "YearRemodAdd\n",
      "RoofStyle\n",
      "RoofMatl\n",
      "Exterior1st\n",
      "Exterior2nd\n",
      "MasVnrType\n",
      "MasVnrArea\n",
      "ExterQual\n",
      "ExterCond\n",
      "Foundation\n",
      "BsmtQual\n",
      "BsmtCond\n",
      "BsmtExposure\n",
      "BsmtFinType1\n",
      "BsmtFinSF1\n",
      "BsmtFinType2\n",
      "BsmtFinSF2\n",
      "BsmtUnfSF\n",
      "TotalBsmtSF\n",
      "Heating\n",
      "HeatingQC\n",
      "CentralAir\n",
      "Electrical\n",
      "1stFlrSF\n",
      "2ndFlrSF\n",
      "LowQualFinSF\n",
      "GrLivArea\n",
      "BsmtFullBath\n",
      "BsmtHalfBath\n",
      "FullBath\n",
      "HalfBath\n",
      "BedroomAbvGr\n",
      "KitchenAbvGr\n",
      "KitchenQual\n",
      "TotRmsAbvGrd\n",
      "Functional\n",
      "Fireplaces\n",
      "FireplaceQu\n",
      "GarageType\n",
      "GarageYrBlt\n",
      "GarageFinish\n",
      "GarageCars\n",
      "GarageArea\n",
      "GarageQual\n",
      "GarageCond\n",
      "PavedDrive\n",
      "WoodDeckSF\n",
      "OpenPorchSF\n",
      "EnclosedPorch\n",
      "3SsnPorch\n",
      "ScreenPorch\n",
      "PoolArea\n",
      "PoolQC\n",
      "Fence\n",
      "MiscFeature\n",
      "MiscVal\n",
      "MoSold\n",
      "YrSold\n",
      "SaleType\n",
      "SaleCondition\n",
      "SalePrice\n",
      "________________________________________________\n"
     ]
    }
   ],
   "source": [
    "#View data manually\n",
    "print('***********************************************************************')\n",
    "\n",
    "\n",
    "print('_____Lets take a look at train data set___________________________________________')\n",
    "\n",
    "\n",
    "print(train_data)\n",
    "\n",
    "print('________________________________________________')\n",
    "\n",
    "print('Here is the list of columns')\n",
    "\n",
    "for col in train_data.columns:\n",
    "    print(col)\n",
    "print('________________________________________________')"
   ]
  },
  {
   "cell_type": "code",
   "execution_count": 6,
   "id": "22bd46af",
   "metadata": {},
   "outputs": [],
   "source": [
    "#view data via a pandas profile\n",
    "import pandas_profiling\n",
    "from pandas_profiling.utils.cache import cache_file\n",
    "from pandas_profiling import ProfileReport\n"
   ]
  },
  {
   "cell_type": "code",
   "execution_count": 7,
   "id": "f0541d54",
   "metadata": {},
   "outputs": [],
   "source": [
    "#profile = ProfileReport(train_data, title=\"Pandas Profiling Report\", minimal=True, check_correlation=False)\n",
    "#profile.to_widgets()\n",
    "#profile_report = train_data.profile_report(explorative=True, html={'style': {'full_width': True}},correlations={\"cramers\": {\"calculate\": False}})\n",
    "#profile_report\n",
    "#profile_report.to_file(\"Housing_Data_Report.html\")\n"
   ]
  },
  {
   "cell_type": "markdown",
   "id": "d0cbf8c5",
   "metadata": {},
   "source": [
    "## 4 Data Cleaning\n",
    "Goal: Clean up the data in order to prepare it for the next steps of\n",
    "your project.\n",
    "\n",
    "~~4.1 NA or missing values~~\n",
    "\n",
    "    Data has no columns with all missing data.\n",
    "    \n",
    "~~4.2 Duplicates~~\n",
    "\n",
    "    No Duplicate rows or columns"
   ]
  },
  {
   "cell_type": "code",
   "execution_count": 8,
   "id": "27a76781",
   "metadata": {},
   "outputs": [
    {
     "data": {
      "text/plain": [
       "True"
      ]
     },
     "execution_count": 8,
     "metadata": {},
     "output_type": "execute_result"
    }
   ],
   "source": [
    "#to_drop = ['Edition Statement','Corporate Author',]\n",
    "train_data.isnull().values.any()\n"
   ]
  },
  {
   "cell_type": "code",
   "execution_count": 9,
   "id": "dcce13a0",
   "metadata": {},
   "outputs": [
    {
     "name": "stdout",
     "output_type": "stream",
     "text": [
      "List of null values for each column: \n",
      "\n",
      "               count          %\n",
      "PoolQC          1453  99.520548\n",
      "MiscFeature     1406  96.301370\n",
      "Alley           1369  93.767123\n",
      "Fence           1179  80.753425\n",
      "FireplaceQu      690  47.260274\n",
      "LotFrontage      259  17.739726\n",
      "GarageYrBlt       81   5.547945\n",
      "GarageCond        81   5.547945\n",
      "GarageType        81   5.547945\n",
      "GarageFinish      81   5.547945\n",
      "GarageQual        81   5.547945\n",
      "BsmtFinType2      38   2.602740\n",
      "BsmtExposure      38   2.602740\n",
      "BsmtQual          37   2.534247\n",
      "BsmtCond          37   2.534247\n",
      "BsmtFinType1      37   2.534247\n",
      "MasVnrArea         8   0.547945\n",
      "MasVnrType         8   0.547945\n",
      "Electrical         1   0.068493\n",
      "Id                 0   0.000000\n",
      "Functional         0   0.000000\n",
      "Fireplaces         0   0.000000\n",
      "KitchenQual        0   0.000000\n",
      "KitchenAbvGr       0   0.000000\n",
      "BedroomAbvGr       0   0.000000\n",
      "HalfBath           0   0.000000\n",
      "FullBath           0   0.000000\n",
      "BsmtHalfBath       0   0.000000\n",
      "TotRmsAbvGrd       0   0.000000\n",
      "GarageCars         0   0.000000\n",
      "GrLivArea          0   0.000000\n",
      "GarageArea         0   0.000000\n",
      "PavedDrive         0   0.000000\n",
      "WoodDeckSF         0   0.000000\n",
      "OpenPorchSF        0   0.000000\n",
      "EnclosedPorch      0   0.000000\n",
      "3SsnPorch          0   0.000000\n",
      "ScreenPorch        0   0.000000\n",
      "PoolArea           0   0.000000\n",
      "MiscVal            0   0.000000\n",
      "MoSold             0   0.000000\n",
      "YrSold             0   0.000000\n",
      "SaleType           0   0.000000\n",
      "SaleCondition      0   0.000000\n",
      "BsmtFullBath       0   0.000000\n",
      "HeatingQC          0   0.000000\n",
      "LowQualFinSF       0   0.000000\n",
      "LandSlope          0   0.000000\n",
      "OverallQual        0   0.000000\n",
      "HouseStyle         0   0.000000\n",
      "BldgType           0   0.000000\n",
      "Condition2         0   0.000000\n",
      "Condition1         0   0.000000\n",
      "Neighborhood       0   0.000000\n",
      "LotConfig          0   0.000000\n",
      "YearBuilt          0   0.000000\n",
      "Utilities          0   0.000000\n",
      "LandContour        0   0.000000\n",
      "LotShape           0   0.000000\n",
      "Street             0   0.000000\n",
      "LotArea            0   0.000000\n",
      "MSZoning           0   0.000000\n",
      "OverallCond        0   0.000000\n",
      "YearRemodAdd       0   0.000000\n",
      "2ndFlrSF           0   0.000000\n",
      "BsmtFinSF2         0   0.000000\n",
      "1stFlrSF           0   0.000000\n",
      "CentralAir         0   0.000000\n",
      "MSSubClass         0   0.000000\n",
      "Heating            0   0.000000\n",
      "TotalBsmtSF        0   0.000000\n",
      "BsmtUnfSF          0   0.000000\n",
      "BsmtFinSF1         0   0.000000\n",
      "RoofStyle          0   0.000000\n",
      "Foundation         0   0.000000\n",
      "ExterCond          0   0.000000\n",
      "ExterQual          0   0.000000\n",
      "Exterior2nd        0   0.000000\n",
      "Exterior1st        0   0.000000\n",
      "RoofMatl           0   0.000000\n",
      "SalePrice          0   0.000000\n",
      "***********************************************************************\n",
      "Number of duplicate rows: 0 \n"
     ]
    }
   ],
   "source": [
    "#pd.set_option('display.max_columns', None)\n",
    "#pd.set_option( 'display.max_colwidth', 1000)\n",
    "pd.set_option('display.max_rows', 90)\n",
    "print(\"List of null values for each column: \\n\")\n",
    "missing = pd.concat([train_data.isnull().sum(), 100 * train_data.isnull().mean()], axis=1)\n",
    "missing.columns=[\"count\", \"%\"]\n",
    "print(missing.sort_values(by=[\"count\"], ascending = False))\n",
    "print('***********************************************************************')\n",
    "\n",
    "print(f'Number of duplicate rows: {train_data.duplicated().sum()} ')\n"
   ]
  },
  {
   "cell_type": "code",
   "execution_count": 10,
   "id": "3c4ffd2e",
   "metadata": {},
   "outputs": [
    {
     "data": {
      "text/plain": [
       "True"
      ]
     },
     "execution_count": 10,
     "metadata": {},
     "output_type": "execute_result"
    }
   ],
   "source": [
    "train_data['Id'].is_unique"
   ]
  },
  {
   "cell_type": "code",
   "execution_count": 11,
   "id": "463501dc",
   "metadata": {},
   "outputs": [
    {
     "ename": "AttributeError",
     "evalue": "'NoneType' object has no attribute 'head'",
     "output_type": "error",
     "traceback": [
      "\u001b[0;31m---------------------------------------------------------------------------\u001b[0m",
      "\u001b[0;31mAttributeError\u001b[0m                            Traceback (most recent call last)",
      "\u001b[0;32m/var/folders/k2/pfnsxnrs1szbbnf62sz1wlzw0000gn/T/ipykernel_10929/875349613.py\u001b[0m in \u001b[0;36m<module>\u001b[0;34m\u001b[0m\n\u001b[1;32m      1\u001b[0m \u001b[0;31m#replace index with Id\u001b[0m\u001b[0;34m\u001b[0m\u001b[0;34m\u001b[0m\u001b[0;34m\u001b[0m\u001b[0m\n\u001b[1;32m      2\u001b[0m \u001b[0mtrain_data\u001b[0m \u001b[0;34m=\u001b[0m \u001b[0mtrain_data\u001b[0m\u001b[0;34m.\u001b[0m\u001b[0mset_index\u001b[0m\u001b[0;34m(\u001b[0m\u001b[0;34m'Id'\u001b[0m\u001b[0;34m,\u001b[0m\u001b[0minplace\u001b[0m\u001b[0;34m=\u001b[0m\u001b[0;32mTrue\u001b[0m\u001b[0;34m)\u001b[0m\u001b[0;34m\u001b[0m\u001b[0;34m\u001b[0m\u001b[0m\n\u001b[0;32m----> 3\u001b[0;31m \u001b[0mtrain_data\u001b[0m\u001b[0;34m.\u001b[0m\u001b[0mhead\u001b[0m\u001b[0;34m(\u001b[0m\u001b[0;34m)\u001b[0m\u001b[0;34m\u001b[0m\u001b[0;34m\u001b[0m\u001b[0m\n\u001b[0m",
      "\u001b[0;31mAttributeError\u001b[0m: 'NoneType' object has no attribute 'head'"
     ]
    }
   ],
   "source": [
    "#replace index with Id\n",
    "train_data = train_data.set_index('Id',inplace=True)\n",
    "train_data.head()"
   ]
  },
  {
   "cell_type": "code",
   "execution_count": null,
   "id": "d2bc4725",
   "metadata": {},
   "outputs": [],
   "source": [
    "#Check data types\n",
    "train_data.dtypes"
   ]
  },
  {
   "cell_type": "markdown",
   "id": "8ac8b9a7",
   "metadata": {},
   "source": [
    "### As you can see. The original data set is precleaned and checks; thus, we do not need to modify any of the data\n"
   ]
  },
  {
   "cell_type": "code",
   "execution_count": null,
   "id": "a211af75",
   "metadata": {},
   "outputs": [],
   "source": []
  }
 ],
 "metadata": {
  "kernelspec": {
   "display_name": "Python 3 (ipykernel)",
   "language": "python",
   "name": "python3"
  },
  "language_info": {
   "codemirror_mode": {
    "name": "ipython",
    "version": 3
   },
   "file_extension": ".py",
   "mimetype": "text/x-python",
   "name": "python",
   "nbconvert_exporter": "python",
   "pygments_lexer": "ipython3",
   "version": "3.9.6"
  }
 },
 "nbformat": 4,
 "nbformat_minor": 5
}
