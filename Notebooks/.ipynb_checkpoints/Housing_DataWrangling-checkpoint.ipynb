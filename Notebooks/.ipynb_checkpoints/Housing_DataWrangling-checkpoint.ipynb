{
 "cells": [
  {
   "cell_type": "markdown",
   "id": "84cee343",
   "metadata": {},
   "source": [
    "# Capstone 2 Housing Prices - Data Wrangling<a id='Data_wrangling'></a>"
   ]
  },
  {
   "cell_type": "markdown",
   "id": "49f89076",
   "metadata": {},
   "source": [
    "## 1 Data Collection\n",
    "\n",
    "Goal: Organize your data to streamline the next steps of your capstone\n",
    "\n",
    "\n",
    "1.1 Data Loading\n",
    "\n",
    "\n",
    "~~1.2 Data Joining (Not needed as data came in one training set)~~\n",
    "\n",
    "    \n",
    "  "
   ]
  },
  {
   "cell_type": "code",
   "execution_count": 1,
   "id": "3819718f",
   "metadata": {},
   "outputs": [],
   "source": [
    "#imports\n",
    "\n",
    "import pandas as pd\n",
    "import matplotlib.pyplot as plt\n",
    "import seaborn as sns\n",
    "import os\n",
    "\n",
    "\n",
    "import sys\n",
    "sys.path.insert(1, '/Users/swechakranthi/Desktop/Github/DataScience-Capstone2-Housing/library')\n",
    "from sb_utils import save_file"
   ]
  },
  {
   "cell_type": "code",
   "execution_count": 2,
   "id": "48c9467f",
   "metadata": {},
   "outputs": [],
   "source": [
    "#1.1 Data Loading\n",
    "\n",
    "# the supplied CSV data file is the raw_data directory\n",
    "train_data = pd.read_csv('../data/train.csv')\n",
    "test_data = pd.read_csv('../data/test.csv')\n"
   ]
  },
  {
   "cell_type": "code",
   "execution_count": 3,
   "id": "a18b2a2b",
   "metadata": {},
   "outputs": [
    {
     "name": "stdout",
     "output_type": "stream",
     "text": [
      "Number of rows in Training Set: 1460\n",
      "Number of rows in Test Set: 1459 \n"
     ]
    }
   ],
   "source": [
    "# Check data count and view data\n",
    "print(f'Number of rows in Training Set: {train_data.shape[0]}')\n",
    "print(f'Number of rows in Test Set: {test_data.shape[0]} ')\n"
   ]
  },
  {
   "cell_type": "markdown",
   "id": "456971c2",
   "metadata": {},
   "source": [
    "## 2 Data Organization\n",
    "\n",
    "Goal: Create a file structure and add work to the GitHub\n",
    "\n",
    "File Structure:\n",
    "/data => contains all the data sets that come with the project @ https://www.kaggle.com/c/house-prices-advanced-regression-techniques/data\n",
    "\n",
    "/Notebooks => contain various notebooks for this project for each step\n",
    "\n",
    "/Library => contains sb_utils package from capstone 1\n",
    "    "
   ]
  },
  {
   "cell_type": "markdown",
   "id": "5d1fa115",
   "metadata": {},
   "source": [
    "## 3 Data Definition\n",
    "\n",
    "Goal: Gain an understanding of your data features to inform the\n",
    "next steps of your project.\n",
    "\n",
    "3.1 Column names and Description of the columns\n",
    "\n",
    "    SalePrice - the property's sale price in dollars. This is the target variable that you're trying to predict.\n",
    "    MSSubClass: The building class\n",
    "    MSZoning: The general zoning classification\n",
    "    LotFrontage: Linear feet of street connected to property\n",
    "    LotArea: Lot size in square feet\n",
    "    Street: Type of road access\n",
    "    Alley: Type of alley access\n",
    "    LotShape: General shape of property\n",
    "    LandContour: Flatness of the property\n",
    "    Utilities: Type of utilities available\n",
    "    LotConfig: Lot configuration\n",
    "    LandSlope: Slope of property\n",
    "    Neighborhood: Physical locations within Ames city limits\n",
    "    Condition1: Proximity to main road or railroad\n",
    "    Condition2: Proximity to main road or railroad (if a second is present)\n",
    "    BldgType: Type of dwelling\n",
    "    HouseStyle: Style of dwelling\n",
    "    OverallQual: Overall material and finish quality\n",
    "    OverallCond: Overall condition rating\n",
    "    YearBuilt: Original construction date\n",
    "    YearRemodAdd: Remodel date\n",
    "    RoofStyle: Type of roof\n",
    "    RoofMatl: Roof material\n",
    "    Exterior1st: Exterior covering on house\n",
    "    Exterior2nd: Exterior covering on house (if more than one material)\n",
    "    MasVnrType: Masonry veneer type\n",
    "    MasVnrArea: Masonry veneer area in square feet\n",
    "    ExterQual: Exterior material quality\n",
    "    ExterCond: Present condition of the material on the exterior\n",
    "    Foundation: Type of foundation\n",
    "    BsmtQual: Height of the basement\n",
    "    BsmtCond: General condition of the basement\n",
    "    BsmtExposure: Walkout or garden level basement walls\n",
    "    BsmtFinType1: Quality of basement finished area\n",
    "    BsmtFinSF1: Type 1 finished square feet\n",
    "    BsmtFinType2: Quality of second finished area (if present)\n",
    "    BsmtFinSF2: Type 2 finished square feet\n",
    "    BsmtUnfSF: Unfinished square feet of basement area\n",
    "    TotalBsmtSF: Total square feet of basement area\n",
    "    Heating: Type of heating\n",
    "    HeatingQC: Heating quality and condition\n",
    "    CentralAir: Central air conditioning\n",
    "    Electrical: Electrical system\n",
    "    1stFlrSF: First Floor square feet\n",
    "    2ndFlrSF: Second floor square feet\n",
    "    LowQualFinSF: Low quality finished square feet (all floors)\n",
    "    GrLivArea: Above grade (ground) living area square feet\n",
    "    BsmtFullBath: Basement full bathrooms\n",
    "    BsmtHalfBath: Basement half bathrooms\n",
    "    FullBath: Full bathrooms above grade\n",
    "    HalfBath: Half baths above grade\n",
    "    Bedroom: Number of bedrooms above basement level\n",
    "    Kitchen: Number of kitchens\n",
    "    KitchenQual: Kitchen quality\n",
    "    TotRmsAbvGrd: Total rooms above grade (does not include bathrooms)\n",
    "    Functional: Home functionality rating\n",
    "    Fireplaces: Number of fireplaces\n",
    "    FireplaceQu: Fireplace quality\n",
    "    GarageType: Garage location\n",
    "    GarageYrBlt: Year garage was built\n",
    "    GarageFinish: Interior finish of the garage\n",
    "    GarageCars: Size of garage in car capacity\n",
    "    GarageArea: Size of garage in square feet\n",
    "    GarageQual: Garage quality\n",
    "    GarageCond: Garage condition\n",
    "    PavedDrive: Paved driveway\n",
    "    WoodDeckSF: Wood deck area in square feet\n",
    "    OpenPorchSF: Open porch area in square feet\n",
    "    EnclosedPorch: Enclosed porch area in square feet\n",
    "    3SsnPorch: Three season porch area in square feet\n",
    "    ScreenPorch: Screen porch area in square feet\n",
    "    PoolArea: Pool area in square feet\n",
    "    PoolQC: Pool quality\n",
    "    Fence: Fence quality\n",
    "    MiscFeature: Miscellaneous feature not covered in other categories\n",
    "    MiscVal: Value of miscellaneous feature\n",
    "    MoSold: Month Sold\n",
    "    YrSold: Year Sold\n",
    "    SaleType: Type of sale\n",
    "    SaleCondition: Condition of sale\n"
   ]
  },
  {
   "cell_type": "code",
   "execution_count": 4,
   "id": "e612a3f2-db14-40e4-8446-fbedc36b8ae5",
   "metadata": {},
   "outputs": [],
   "source": [
    "#3.1 Column names and Description of the columns\n",
    "\n",
    "#### Print a list of all columns\n",
    "\n",
    "# print('Here is the list of columns')\n",
    "\n",
    "# for col in train_data.columns:\n",
    "#    print(col)\n",
    "# print('________________________________________________')\n",
    "\n"
   ]
  },
  {
   "cell_type": "markdown",
   "id": "0e6e1494-f759-4517-9441-a723f2538346",
   "metadata": {},
   "source": [
    "3.2 Data types"
   ]
  },
  {
   "cell_type": "code",
   "execution_count": 5,
   "id": "283f16e7-cec4-40ce-80e1-50ca8609eb6c",
   "metadata": {},
   "outputs": [
    {
     "data": {
      "text/plain": [
       "Id                 int64\n",
       "MSSubClass         int64\n",
       "MSZoning          object\n",
       "LotFrontage      float64\n",
       "LotArea            int64\n",
       "Street            object\n",
       "Alley             object\n",
       "LotShape          object\n",
       "LandContour       object\n",
       "Utilities         object\n",
       "LotConfig         object\n",
       "LandSlope         object\n",
       "Neighborhood      object\n",
       "Condition1        object\n",
       "Condition2        object\n",
       "BldgType          object\n",
       "HouseStyle        object\n",
       "OverallQual        int64\n",
       "OverallCond        int64\n",
       "YearBuilt          int64\n",
       "YearRemodAdd       int64\n",
       "RoofStyle         object\n",
       "RoofMatl          object\n",
       "Exterior1st       object\n",
       "Exterior2nd       object\n",
       "MasVnrType        object\n",
       "MasVnrArea       float64\n",
       "ExterQual         object\n",
       "ExterCond         object\n",
       "Foundation        object\n",
       "BsmtQual          object\n",
       "BsmtCond          object\n",
       "BsmtExposure      object\n",
       "BsmtFinType1      object\n",
       "BsmtFinSF1         int64\n",
       "BsmtFinType2      object\n",
       "BsmtFinSF2         int64\n",
       "BsmtUnfSF          int64\n",
       "TotalBsmtSF        int64\n",
       "Heating           object\n",
       "HeatingQC         object\n",
       "CentralAir        object\n",
       "Electrical        object\n",
       "1stFlrSF           int64\n",
       "2ndFlrSF           int64\n",
       "LowQualFinSF       int64\n",
       "GrLivArea          int64\n",
       "BsmtFullBath       int64\n",
       "BsmtHalfBath       int64\n",
       "FullBath           int64\n",
       "HalfBath           int64\n",
       "BedroomAbvGr       int64\n",
       "KitchenAbvGr       int64\n",
       "KitchenQual       object\n",
       "TotRmsAbvGrd       int64\n",
       "Functional        object\n",
       "Fireplaces         int64\n",
       "FireplaceQu       object\n",
       "GarageType        object\n",
       "GarageYrBlt      float64\n",
       "GarageFinish      object\n",
       "GarageCars         int64\n",
       "GarageArea         int64\n",
       "GarageQual        object\n",
       "GarageCond        object\n",
       "PavedDrive        object\n",
       "WoodDeckSF         int64\n",
       "OpenPorchSF        int64\n",
       "EnclosedPorch      int64\n",
       "3SsnPorch          int64\n",
       "ScreenPorch        int64\n",
       "PoolArea           int64\n",
       "PoolQC            object\n",
       "Fence             object\n",
       "MiscFeature       object\n",
       "MiscVal            int64\n",
       "MoSold             int64\n",
       "YrSold             int64\n",
       "SaleType          object\n",
       "SaleCondition     object\n",
       "SalePrice          int64\n",
       "dtype: object"
      ]
     },
     "execution_count": 5,
     "metadata": {},
     "output_type": "execute_result"
    }
   ],
   "source": [
    "#3.2\n",
    "pd.set_option('display.max_rows', 90)\n",
    "\n",
    "#Check data types\n",
    "train_data.dtypes"
   ]
  },
  {
   "cell_type": "markdown",
   "id": "a79843e4-7413-4588-a943-732bb0635af5",
   "metadata": {},
   "source": [
    "3.3 Counts and percents unique values"
   ]
  },
  {
   "cell_type": "code",
   "execution_count": 6,
   "id": "370cac7d-48e8-4b9f-bde2-6f8f811613f6",
   "metadata": {},
   "outputs": [
    {
     "name": "stdout",
     "output_type": "stream",
     "text": [
      "Count of unique values in each column :\n",
      "Id               1460\n",
      "MSSubClass         15\n",
      "MSZoning            5\n",
      "LotFrontage       110\n",
      "LotArea          1073\n",
      "Street              2\n",
      "Alley               2\n",
      "LotShape            4\n",
      "LandContour         4\n",
      "Utilities           2\n",
      "LotConfig           5\n",
      "LandSlope           3\n",
      "Neighborhood       25\n",
      "Condition1          9\n",
      "Condition2          8\n",
      "BldgType            5\n",
      "HouseStyle          8\n",
      "OverallQual        10\n",
      "OverallCond         9\n",
      "YearBuilt         112\n",
      "YearRemodAdd       61\n",
      "RoofStyle           6\n",
      "RoofMatl            8\n",
      "Exterior1st        15\n",
      "Exterior2nd        16\n",
      "MasVnrType          4\n",
      "MasVnrArea        327\n",
      "ExterQual           4\n",
      "ExterCond           5\n",
      "Foundation          6\n",
      "BsmtQual            4\n",
      "BsmtCond            4\n",
      "BsmtExposure        4\n",
      "BsmtFinType1        6\n",
      "BsmtFinSF1        637\n",
      "BsmtFinType2        6\n",
      "BsmtFinSF2        144\n",
      "BsmtUnfSF         780\n",
      "TotalBsmtSF       721\n",
      "Heating             6\n",
      "HeatingQC           5\n",
      "CentralAir          2\n",
      "Electrical          5\n",
      "1stFlrSF          753\n",
      "2ndFlrSF          417\n",
      "LowQualFinSF       24\n",
      "GrLivArea         861\n",
      "BsmtFullBath        4\n",
      "BsmtHalfBath        3\n",
      "FullBath            4\n",
      "HalfBath            3\n",
      "BedroomAbvGr        8\n",
      "KitchenAbvGr        4\n",
      "KitchenQual         4\n",
      "TotRmsAbvGrd       12\n",
      "Functional          7\n",
      "Fireplaces          4\n",
      "FireplaceQu         5\n",
      "GarageType          6\n",
      "GarageYrBlt        97\n",
      "GarageFinish        3\n",
      "GarageCars          5\n",
      "GarageArea        441\n",
      "GarageQual          5\n",
      "GarageCond          5\n",
      "PavedDrive          3\n",
      "WoodDeckSF        274\n",
      "OpenPorchSF       202\n",
      "EnclosedPorch     120\n",
      "3SsnPorch          20\n",
      "ScreenPorch        76\n",
      "PoolArea            8\n",
      "PoolQC              3\n",
      "Fence               4\n",
      "MiscFeature         4\n",
      "MiscVal            21\n",
      "MoSold             12\n",
      "YrSold              5\n",
      "SaleType            9\n",
      "SaleCondition       6\n",
      "SalePrice         663\n",
      "dtype: int64\n"
     ]
    }
   ],
   "source": [
    "#3.3 Counts of unique values\n",
    "uniqueValues = train_data.nunique()\n",
    "print('Count of unique values in each column :')\n",
    "print(uniqueValues)"
   ]
  },
  {
   "cell_type": "code",
   "execution_count": 7,
   "id": "d19e6efd",
   "metadata": {},
   "outputs": [],
   "source": [
    "#Pandas Profiling Installation Steps\n",
    "\n",
    "# (uncomment and run below if you need to pip install the pandas-profiling library)\n",
    "\n",
    "#import sys\n",
    "#!{sys.executable} -m pip install -U pandas-profiling==2.9.0\n",
    "#!jupyter nbextension enable --py widgetsnbextension\n"
   ]
  },
  {
   "cell_type": "markdown",
   "id": "1607e722-89d2-4106-b292-ffc9a7f1719c",
   "metadata": {},
   "source": [
    "3.4 View Data"
   ]
  },
  {
   "cell_type": "code",
   "execution_count": 8,
   "id": "7cdfde5e",
   "metadata": {},
   "outputs": [
    {
     "name": "stdout",
     "output_type": "stream",
     "text": [
      "***********************************************************************\n",
      "_____Lets take a look at train data set___________________________________________\n",
      "        Id  MSSubClass MSZoning  LotFrontage  LotArea Street Alley LotShape  \\\n",
      "0        1          60       RL         65.0     8450   Pave   NaN      Reg   \n",
      "1        2          20       RL         80.0     9600   Pave   NaN      Reg   \n",
      "2        3          60       RL         68.0    11250   Pave   NaN      IR1   \n",
      "3        4          70       RL         60.0     9550   Pave   NaN      IR1   \n",
      "4        5          60       RL         84.0    14260   Pave   NaN      IR1   \n",
      "...    ...         ...      ...          ...      ...    ...   ...      ...   \n",
      "1455  1456          60       RL         62.0     7917   Pave   NaN      Reg   \n",
      "1456  1457          20       RL         85.0    13175   Pave   NaN      Reg   \n",
      "1457  1458          70       RL         66.0     9042   Pave   NaN      Reg   \n",
      "1458  1459          20       RL         68.0     9717   Pave   NaN      Reg   \n",
      "1459  1460          20       RL         75.0     9937   Pave   NaN      Reg   \n",
      "\n",
      "     LandContour Utilities  ... PoolArea PoolQC  Fence MiscFeature MiscVal  \\\n",
      "0            Lvl    AllPub  ...        0    NaN    NaN         NaN       0   \n",
      "1            Lvl    AllPub  ...        0    NaN    NaN         NaN       0   \n",
      "2            Lvl    AllPub  ...        0    NaN    NaN         NaN       0   \n",
      "3            Lvl    AllPub  ...        0    NaN    NaN         NaN       0   \n",
      "4            Lvl    AllPub  ...        0    NaN    NaN         NaN       0   \n",
      "...          ...       ...  ...      ...    ...    ...         ...     ...   \n",
      "1455         Lvl    AllPub  ...        0    NaN    NaN         NaN       0   \n",
      "1456         Lvl    AllPub  ...        0    NaN  MnPrv         NaN       0   \n",
      "1457         Lvl    AllPub  ...        0    NaN  GdPrv        Shed    2500   \n",
      "1458         Lvl    AllPub  ...        0    NaN    NaN         NaN       0   \n",
      "1459         Lvl    AllPub  ...        0    NaN    NaN         NaN       0   \n",
      "\n",
      "     MoSold YrSold  SaleType  SaleCondition  SalePrice  \n",
      "0         2   2008        WD         Normal     208500  \n",
      "1         5   2007        WD         Normal     181500  \n",
      "2         9   2008        WD         Normal     223500  \n",
      "3         2   2006        WD        Abnorml     140000  \n",
      "4        12   2008        WD         Normal     250000  \n",
      "...     ...    ...       ...            ...        ...  \n",
      "1455      8   2007        WD         Normal     175000  \n",
      "1456      2   2010        WD         Normal     210000  \n",
      "1457      5   2010        WD         Normal     266500  \n",
      "1458      4   2010        WD         Normal     142125  \n",
      "1459      6   2008        WD         Normal     147500  \n",
      "\n",
      "[1460 rows x 81 columns]\n",
      "________________________________________________\n"
     ]
    },
    {
     "data": {
      "text/html": [
       "<div>\n",
       "<style scoped>\n",
       "    .dataframe tbody tr th:only-of-type {\n",
       "        vertical-align: middle;\n",
       "    }\n",
       "\n",
       "    .dataframe tbody tr th {\n",
       "        vertical-align: top;\n",
       "    }\n",
       "\n",
       "    .dataframe thead th {\n",
       "        text-align: right;\n",
       "    }\n",
       "</style>\n",
       "<table border=\"1\" class=\"dataframe\">\n",
       "  <thead>\n",
       "    <tr style=\"text-align: right;\">\n",
       "      <th></th>\n",
       "      <th>Id</th>\n",
       "      <th>MSSubClass</th>\n",
       "      <th>LotFrontage</th>\n",
       "      <th>LotArea</th>\n",
       "      <th>OverallQual</th>\n",
       "      <th>OverallCond</th>\n",
       "      <th>YearBuilt</th>\n",
       "      <th>YearRemodAdd</th>\n",
       "      <th>MasVnrArea</th>\n",
       "      <th>BsmtFinSF1</th>\n",
       "      <th>...</th>\n",
       "      <th>WoodDeckSF</th>\n",
       "      <th>OpenPorchSF</th>\n",
       "      <th>EnclosedPorch</th>\n",
       "      <th>3SsnPorch</th>\n",
       "      <th>ScreenPorch</th>\n",
       "      <th>PoolArea</th>\n",
       "      <th>MiscVal</th>\n",
       "      <th>MoSold</th>\n",
       "      <th>YrSold</th>\n",
       "      <th>SalePrice</th>\n",
       "    </tr>\n",
       "  </thead>\n",
       "  <tbody>\n",
       "    <tr>\n",
       "      <th>count</th>\n",
       "      <td>1460.000000</td>\n",
       "      <td>1460.000000</td>\n",
       "      <td>1201.000000</td>\n",
       "      <td>1460.000000</td>\n",
       "      <td>1460.000000</td>\n",
       "      <td>1460.000000</td>\n",
       "      <td>1460.000000</td>\n",
       "      <td>1460.000000</td>\n",
       "      <td>1452.000000</td>\n",
       "      <td>1460.000000</td>\n",
       "      <td>...</td>\n",
       "      <td>1460.000000</td>\n",
       "      <td>1460.000000</td>\n",
       "      <td>1460.000000</td>\n",
       "      <td>1460.000000</td>\n",
       "      <td>1460.000000</td>\n",
       "      <td>1460.000000</td>\n",
       "      <td>1460.000000</td>\n",
       "      <td>1460.000000</td>\n",
       "      <td>1460.000000</td>\n",
       "      <td>1460.000000</td>\n",
       "    </tr>\n",
       "    <tr>\n",
       "      <th>mean</th>\n",
       "      <td>730.500000</td>\n",
       "      <td>56.897260</td>\n",
       "      <td>70.049958</td>\n",
       "      <td>10516.828082</td>\n",
       "      <td>6.099315</td>\n",
       "      <td>5.575342</td>\n",
       "      <td>1971.267808</td>\n",
       "      <td>1984.865753</td>\n",
       "      <td>103.685262</td>\n",
       "      <td>443.639726</td>\n",
       "      <td>...</td>\n",
       "      <td>94.244521</td>\n",
       "      <td>46.660274</td>\n",
       "      <td>21.954110</td>\n",
       "      <td>3.409589</td>\n",
       "      <td>15.060959</td>\n",
       "      <td>2.758904</td>\n",
       "      <td>43.489041</td>\n",
       "      <td>6.321918</td>\n",
       "      <td>2007.815753</td>\n",
       "      <td>180921.195890</td>\n",
       "    </tr>\n",
       "    <tr>\n",
       "      <th>std</th>\n",
       "      <td>421.610009</td>\n",
       "      <td>42.300571</td>\n",
       "      <td>24.284752</td>\n",
       "      <td>9981.264932</td>\n",
       "      <td>1.382997</td>\n",
       "      <td>1.112799</td>\n",
       "      <td>30.202904</td>\n",
       "      <td>20.645407</td>\n",
       "      <td>181.066207</td>\n",
       "      <td>456.098091</td>\n",
       "      <td>...</td>\n",
       "      <td>125.338794</td>\n",
       "      <td>66.256028</td>\n",
       "      <td>61.119149</td>\n",
       "      <td>29.317331</td>\n",
       "      <td>55.757415</td>\n",
       "      <td>40.177307</td>\n",
       "      <td>496.123024</td>\n",
       "      <td>2.703626</td>\n",
       "      <td>1.328095</td>\n",
       "      <td>79442.502883</td>\n",
       "    </tr>\n",
       "    <tr>\n",
       "      <th>min</th>\n",
       "      <td>1.000000</td>\n",
       "      <td>20.000000</td>\n",
       "      <td>21.000000</td>\n",
       "      <td>1300.000000</td>\n",
       "      <td>1.000000</td>\n",
       "      <td>1.000000</td>\n",
       "      <td>1872.000000</td>\n",
       "      <td>1950.000000</td>\n",
       "      <td>0.000000</td>\n",
       "      <td>0.000000</td>\n",
       "      <td>...</td>\n",
       "      <td>0.000000</td>\n",
       "      <td>0.000000</td>\n",
       "      <td>0.000000</td>\n",
       "      <td>0.000000</td>\n",
       "      <td>0.000000</td>\n",
       "      <td>0.000000</td>\n",
       "      <td>0.000000</td>\n",
       "      <td>1.000000</td>\n",
       "      <td>2006.000000</td>\n",
       "      <td>34900.000000</td>\n",
       "    </tr>\n",
       "    <tr>\n",
       "      <th>25%</th>\n",
       "      <td>365.750000</td>\n",
       "      <td>20.000000</td>\n",
       "      <td>59.000000</td>\n",
       "      <td>7553.500000</td>\n",
       "      <td>5.000000</td>\n",
       "      <td>5.000000</td>\n",
       "      <td>1954.000000</td>\n",
       "      <td>1967.000000</td>\n",
       "      <td>0.000000</td>\n",
       "      <td>0.000000</td>\n",
       "      <td>...</td>\n",
       "      <td>0.000000</td>\n",
       "      <td>0.000000</td>\n",
       "      <td>0.000000</td>\n",
       "      <td>0.000000</td>\n",
       "      <td>0.000000</td>\n",
       "      <td>0.000000</td>\n",
       "      <td>0.000000</td>\n",
       "      <td>5.000000</td>\n",
       "      <td>2007.000000</td>\n",
       "      <td>129975.000000</td>\n",
       "    </tr>\n",
       "    <tr>\n",
       "      <th>50%</th>\n",
       "      <td>730.500000</td>\n",
       "      <td>50.000000</td>\n",
       "      <td>69.000000</td>\n",
       "      <td>9478.500000</td>\n",
       "      <td>6.000000</td>\n",
       "      <td>5.000000</td>\n",
       "      <td>1973.000000</td>\n",
       "      <td>1994.000000</td>\n",
       "      <td>0.000000</td>\n",
       "      <td>383.500000</td>\n",
       "      <td>...</td>\n",
       "      <td>0.000000</td>\n",
       "      <td>25.000000</td>\n",
       "      <td>0.000000</td>\n",
       "      <td>0.000000</td>\n",
       "      <td>0.000000</td>\n",
       "      <td>0.000000</td>\n",
       "      <td>0.000000</td>\n",
       "      <td>6.000000</td>\n",
       "      <td>2008.000000</td>\n",
       "      <td>163000.000000</td>\n",
       "    </tr>\n",
       "    <tr>\n",
       "      <th>75%</th>\n",
       "      <td>1095.250000</td>\n",
       "      <td>70.000000</td>\n",
       "      <td>80.000000</td>\n",
       "      <td>11601.500000</td>\n",
       "      <td>7.000000</td>\n",
       "      <td>6.000000</td>\n",
       "      <td>2000.000000</td>\n",
       "      <td>2004.000000</td>\n",
       "      <td>166.000000</td>\n",
       "      <td>712.250000</td>\n",
       "      <td>...</td>\n",
       "      <td>168.000000</td>\n",
       "      <td>68.000000</td>\n",
       "      <td>0.000000</td>\n",
       "      <td>0.000000</td>\n",
       "      <td>0.000000</td>\n",
       "      <td>0.000000</td>\n",
       "      <td>0.000000</td>\n",
       "      <td>8.000000</td>\n",
       "      <td>2009.000000</td>\n",
       "      <td>214000.000000</td>\n",
       "    </tr>\n",
       "    <tr>\n",
       "      <th>max</th>\n",
       "      <td>1460.000000</td>\n",
       "      <td>190.000000</td>\n",
       "      <td>313.000000</td>\n",
       "      <td>215245.000000</td>\n",
       "      <td>10.000000</td>\n",
       "      <td>9.000000</td>\n",
       "      <td>2010.000000</td>\n",
       "      <td>2010.000000</td>\n",
       "      <td>1600.000000</td>\n",
       "      <td>5644.000000</td>\n",
       "      <td>...</td>\n",
       "      <td>857.000000</td>\n",
       "      <td>547.000000</td>\n",
       "      <td>552.000000</td>\n",
       "      <td>508.000000</td>\n",
       "      <td>480.000000</td>\n",
       "      <td>738.000000</td>\n",
       "      <td>15500.000000</td>\n",
       "      <td>12.000000</td>\n",
       "      <td>2010.000000</td>\n",
       "      <td>755000.000000</td>\n",
       "    </tr>\n",
       "  </tbody>\n",
       "</table>\n",
       "<p>8 rows × 38 columns</p>\n",
       "</div>"
      ],
      "text/plain": [
       "                Id   MSSubClass  LotFrontage        LotArea  OverallQual  \\\n",
       "count  1460.000000  1460.000000  1201.000000    1460.000000  1460.000000   \n",
       "mean    730.500000    56.897260    70.049958   10516.828082     6.099315   \n",
       "std     421.610009    42.300571    24.284752    9981.264932     1.382997   \n",
       "min       1.000000    20.000000    21.000000    1300.000000     1.000000   \n",
       "25%     365.750000    20.000000    59.000000    7553.500000     5.000000   \n",
       "50%     730.500000    50.000000    69.000000    9478.500000     6.000000   \n",
       "75%    1095.250000    70.000000    80.000000   11601.500000     7.000000   \n",
       "max    1460.000000   190.000000   313.000000  215245.000000    10.000000   \n",
       "\n",
       "       OverallCond    YearBuilt  YearRemodAdd   MasVnrArea   BsmtFinSF1  ...  \\\n",
       "count  1460.000000  1460.000000   1460.000000  1452.000000  1460.000000  ...   \n",
       "mean      5.575342  1971.267808   1984.865753   103.685262   443.639726  ...   \n",
       "std       1.112799    30.202904     20.645407   181.066207   456.098091  ...   \n",
       "min       1.000000  1872.000000   1950.000000     0.000000     0.000000  ...   \n",
       "25%       5.000000  1954.000000   1967.000000     0.000000     0.000000  ...   \n",
       "50%       5.000000  1973.000000   1994.000000     0.000000   383.500000  ...   \n",
       "75%       6.000000  2000.000000   2004.000000   166.000000   712.250000  ...   \n",
       "max       9.000000  2010.000000   2010.000000  1600.000000  5644.000000  ...   \n",
       "\n",
       "        WoodDeckSF  OpenPorchSF  EnclosedPorch    3SsnPorch  ScreenPorch  \\\n",
       "count  1460.000000  1460.000000    1460.000000  1460.000000  1460.000000   \n",
       "mean     94.244521    46.660274      21.954110     3.409589    15.060959   \n",
       "std     125.338794    66.256028      61.119149    29.317331    55.757415   \n",
       "min       0.000000     0.000000       0.000000     0.000000     0.000000   \n",
       "25%       0.000000     0.000000       0.000000     0.000000     0.000000   \n",
       "50%       0.000000    25.000000       0.000000     0.000000     0.000000   \n",
       "75%     168.000000    68.000000       0.000000     0.000000     0.000000   \n",
       "max     857.000000   547.000000     552.000000   508.000000   480.000000   \n",
       "\n",
       "          PoolArea       MiscVal       MoSold       YrSold      SalePrice  \n",
       "count  1460.000000   1460.000000  1460.000000  1460.000000    1460.000000  \n",
       "mean      2.758904     43.489041     6.321918  2007.815753  180921.195890  \n",
       "std      40.177307    496.123024     2.703626     1.328095   79442.502883  \n",
       "min       0.000000      0.000000     1.000000  2006.000000   34900.000000  \n",
       "25%       0.000000      0.000000     5.000000  2007.000000  129975.000000  \n",
       "50%       0.000000      0.000000     6.000000  2008.000000  163000.000000  \n",
       "75%       0.000000      0.000000     8.000000  2009.000000  214000.000000  \n",
       "max     738.000000  15500.000000    12.000000  2010.000000  755000.000000  \n",
       "\n",
       "[8 rows x 38 columns]"
      ]
     },
     "execution_count": 8,
     "metadata": {},
     "output_type": "execute_result"
    }
   ],
   "source": [
    "#3.4 View data manually\n",
    "print('***********************************************************************')\n",
    "print('_____Lets take a look at train data set___________________________________________')\n",
    "print(train_data)\n",
    "print('________________________________________________')\n",
    "train_data.describe()\n"
   ]
  },
  {
   "cell_type": "code",
   "execution_count": 9,
   "id": "22bd46af",
   "metadata": {},
   "outputs": [],
   "source": [
    "#view data via a pandas profile\n",
    "import pandas_profiling\n",
    "from pandas_profiling.utils.cache import cache_file\n",
    "from pandas_profiling import ProfileReport\n"
   ]
  },
  {
   "cell_type": "code",
   "execution_count": 10,
   "id": "16d09b8f",
   "metadata": {},
   "outputs": [],
   "source": [
    "#profile = ProfileReport(train_data, title=\"Pandas Profiling Report\", minimal=True, check_correlation=False)\n",
    "#profile.to_widgets()\n",
    "#profile_report = train_data.profile_report(explorative=True, html={'style': {'full_width': True}},correlations={\"cramers\": {\"calculate\": False}})\n",
    "#profile_report\n",
    "#profile_report.to_file(\"Housing_Data_Report.html\")\n"
   ]
  },
  {
   "cell_type": "markdown",
   "id": "d0cbf8c5",
   "metadata": {},
   "source": [
    "## 4 Data Cleaning\n",
    "Goal: Clean up the data in order to prepare it for the next steps of\n",
    "your project.\n",
    "\n",
    "~~4.1 Duplicates~~\n",
    "\n",
    "    No Duplicate rows or columns\n",
    "    \n",
    "~~4.2 NA or missing values~~\n",
    "\n",
    "    Data has no columns with all missing data.\n",
    "    \n"
   ]
  },
  {
   "cell_type": "code",
   "execution_count": 11,
   "id": "ecb58256-96fe-4f6c-8295-a619463abc53",
   "metadata": {},
   "outputs": [
    {
     "name": "stdout",
     "output_type": "stream",
     "text": [
      "0\n"
     ]
    }
   ],
   "source": [
    "#4.1 Delete any duplicate data\n",
    "duplicate = train_data.duplicated()\n",
    "print(duplicate.sum())"
   ]
  },
  {
   "cell_type": "code",
   "execution_count": 12,
   "id": "27a76781",
   "metadata": {},
   "outputs": [
    {
     "data": {
      "text/plain": [
       "True"
      ]
     },
     "execution_count": 12,
     "metadata": {},
     "output_type": "execute_result"
    }
   ],
   "source": [
    "#4.2 Are there null values\n",
    "train_data.isnull().values.any()"
   ]
  },
  {
   "cell_type": "code",
   "execution_count": 13,
   "id": "dcce13a0",
   "metadata": {},
   "outputs": [
    {
     "name": "stdout",
     "output_type": "stream",
     "text": [
      "List of null values for each column: \n",
      "\n",
      "               count          %    types\n",
      "PoolQC          1453  99.520548   object\n",
      "MiscFeature     1406  96.301370   object\n",
      "Alley           1369  93.767123   object\n",
      "Fence           1179  80.753425   object\n",
      "FireplaceQu      690  47.260274   object\n",
      "LotFrontage      259  17.739726  float64\n",
      "GarageYrBlt       81   5.547945  float64\n",
      "GarageCond        81   5.547945   object\n",
      "GarageFinish      81   5.547945   object\n",
      "GarageQual        81   5.547945   object\n",
      "GarageType        81   5.547945   object\n",
      "BsmtFinType2      38   2.602740   object\n",
      "BsmtExposure      38   2.602740   object\n",
      "BsmtQual          37   2.534247   object\n",
      "BsmtCond          37   2.534247   object\n",
      "BsmtFinType1      37   2.534247   object\n",
      "MasVnrType         8   0.547945   object\n",
      "MasVnrArea         8   0.547945  float64\n",
      "Electrical         1   0.068493   object\n",
      "Condition1         0   0.000000   object\n",
      "Neighborhood       0   0.000000   object\n",
      "LotConfig          0   0.000000   object\n",
      "YearBuilt          0   0.000000    int64\n",
      "Utilities          0   0.000000   object\n",
      "LandContour        0   0.000000   object\n",
      "LotShape           0   0.000000   object\n",
      "BsmtFinSF2         0   0.000000    int64\n",
      "Street             0   0.000000   object\n",
      "LotArea            0   0.000000    int64\n",
      "MSZoning           0   0.000000   object\n",
      "OverallCond        0   0.000000    int64\n",
      "YearRemodAdd       0   0.000000    int64\n",
      "2ndFlrSF           0   0.000000    int64\n",
      "Foundation         0   0.000000   object\n",
      "1stFlrSF           0   0.000000    int64\n",
      "CentralAir         0   0.000000   object\n",
      "MSSubClass         0   0.000000    int64\n",
      "Heating            0   0.000000   object\n",
      "TotalBsmtSF        0   0.000000    int64\n",
      "BsmtUnfSF          0   0.000000    int64\n",
      "BsmtFinSF1         0   0.000000    int64\n",
      "RoofStyle          0   0.000000   object\n",
      "BldgType           0   0.000000   object\n",
      "ExterCond          0   0.000000   object\n",
      "ExterQual          0   0.000000   object\n",
      "Exterior2nd        0   0.000000   object\n",
      "Exterior1st        0   0.000000   object\n",
      "RoofMatl           0   0.000000   object\n",
      "Condition2         0   0.000000   object\n",
      "MoSold             0   0.000000    int64\n",
      "HouseStyle         0   0.000000   object\n",
      "PavedDrive         0   0.000000   object\n",
      "Id                 0   0.000000    int64\n",
      "Functional         0   0.000000   object\n",
      "Fireplaces         0   0.000000    int64\n",
      "KitchenQual        0   0.000000   object\n",
      "KitchenAbvGr       0   0.000000    int64\n",
      "BedroomAbvGr       0   0.000000    int64\n",
      "HalfBath           0   0.000000    int64\n",
      "FullBath           0   0.000000    int64\n",
      "BsmtHalfBath       0   0.000000    int64\n",
      "TotRmsAbvGrd       0   0.000000    int64\n",
      "GarageCars         0   0.000000    int64\n",
      "GrLivArea          0   0.000000    int64\n",
      "GarageArea         0   0.000000    int64\n",
      "WoodDeckSF         0   0.000000    int64\n",
      "OverallQual        0   0.000000    int64\n",
      "OpenPorchSF        0   0.000000    int64\n",
      "EnclosedPorch      0   0.000000    int64\n",
      "3SsnPorch          0   0.000000    int64\n",
      "ScreenPorch        0   0.000000    int64\n",
      "PoolArea           0   0.000000    int64\n",
      "MiscVal            0   0.000000    int64\n",
      "YrSold             0   0.000000    int64\n",
      "SaleType           0   0.000000   object\n",
      "SaleCondition      0   0.000000   object\n",
      "BsmtFullBath       0   0.000000    int64\n",
      "HeatingQC          0   0.000000   object\n",
      "LowQualFinSF       0   0.000000    int64\n",
      "LandSlope          0   0.000000   object\n",
      "SalePrice          0   0.000000    int64\n",
      "***********************************************************************\n",
      "Number of duplicate rows: 0 \n",
      "null row counts: count    19\n",
      "%        19\n",
      "dtype: int64\n"
     ]
    }
   ],
   "source": [
    "#list the null value count of all columns\n",
    "pd.set_option('display.max_rows', 90)\n",
    "print(\"List of null values for each column: \\n\")\n",
    "Missing_count = train_data.isna().sum().sort_values(ascending = False)[:25]\n",
    "missing = pd.concat([Missing_count, (Missing_count/len(train_data))*100], axis=1, keys = [\"count\", \"%\"])\n",
    "missing_type = pd.concat([train_data.isna().sum().sort_values(ascending = False), (train_data.isna().sum().sort_values(ascending = False)/len(train_data))*100,train_data.dtypes], axis=1, keys = [\"count\", \"%\", \"types\"])\n",
    "print(missing_type.sort_values(by=[\"count\"], ascending = False))\n",
    "print('***********************************************************************')\n",
    "\n",
    "print(f'Number of duplicate rows: {train_data.duplicated().sum()} ')\n",
    "\n",
    "\n",
    "print(f'null row counts: {missing.astype(bool).sum(axis=0)}')\n",
    "\n"
   ]
  },
  {
   "cell_type": "markdown",
   "id": "23f503fc-40fb-4ec4-ab01-3021cf6ea4cf",
   "metadata": {},
   "source": [
    "...We have to adjust data for the 19 columns that have null values"
   ]
  },
  {
   "cell_type": "code",
   "execution_count": 14,
   "id": "7c40e969-4ed6-4f53-91ac-cd0cc2bd6c58",
   "metadata": {},
   "outputs": [
    {
     "data": {
      "text/plain": [
       "(array([ 0,  1,  2,  3,  4,  5,  6,  7,  8,  9, 10, 11, 12, 13, 14, 15, 16,\n",
       "        17, 18, 19, 20, 21, 22, 23, 24]),\n",
       " [Text(0, 0, 'PoolQC'),\n",
       "  Text(1, 0, 'MiscFeature'),\n",
       "  Text(2, 0, 'Alley'),\n",
       "  Text(3, 0, 'Fence'),\n",
       "  Text(4, 0, 'FireplaceQu'),\n",
       "  Text(5, 0, 'LotFrontage'),\n",
       "  Text(6, 0, 'GarageYrBlt'),\n",
       "  Text(7, 0, 'GarageCond'),\n",
       "  Text(8, 0, 'GarageType'),\n",
       "  Text(9, 0, 'GarageFinish'),\n",
       "  Text(10, 0, 'GarageQual'),\n",
       "  Text(11, 0, 'BsmtFinType2'),\n",
       "  Text(12, 0, 'BsmtExposure'),\n",
       "  Text(13, 0, 'BsmtQual'),\n",
       "  Text(14, 0, 'BsmtCond'),\n",
       "  Text(15, 0, 'BsmtFinType1'),\n",
       "  Text(16, 0, 'MasVnrArea'),\n",
       "  Text(17, 0, 'MasVnrType'),\n",
       "  Text(18, 0, 'Electrical'),\n",
       "  Text(19, 0, 'Id'),\n",
       "  Text(20, 0, 'Functional'),\n",
       "  Text(21, 0, 'Fireplaces'),\n",
       "  Text(22, 0, 'KitchenQual'),\n",
       "  Text(23, 0, 'KitchenAbvGr'),\n",
       "  Text(24, 0, 'BedroomAbvGr')])"
      ]
     },
     "execution_count": 14,
     "metadata": {},
     "output_type": "execute_result"
    },
    {
     "data": {
      "image/png": "[encoded data removed]",
      "text/plain": [
       "<Figure size 1080x720 with 1 Axes>"
      ]
     },
     "metadata": {
      "needs_background": "light"
     },
     "output_type": "display_data"
    }
   ],
   "source": [
    "plt.figure(figsize=(15,10))\n",
    "sns.barplot(x =missing.index,y = '%',data=missing)\n",
    "plt.xticks(rotation ='90')"
   ]
  },
  {
   "cell_type": "code",
   "execution_count": 15,
   "id": "a62552e8-4c41-49d1-a337-875b3b86ece8",
   "metadata": {},
   "outputs": [
    {
     "name": "stdout",
     "output_type": "stream",
     "text": [
      "List of null values for each column in Test Data: \n",
      "\n",
      "              count          %\n",
      "PoolQC         1456  99.794380\n",
      "MiscFeature    1408  96.504455\n",
      "Alley          1352  92.666210\n",
      "Fence          1169  80.123372\n",
      "FireplaceQu     730  50.034270\n",
      "LotFrontage     227  15.558602\n",
      "GarageYrBlt      78   5.346127\n",
      "GarageQual       78   5.346127\n",
      "GarageFinish     78   5.346127\n",
      "GarageCond       78   5.346127\n",
      "GarageType       76   5.209047\n",
      "BsmtCond         45   3.084304\n",
      "BsmtQual         44   3.015764\n",
      "BsmtExposure     44   3.015764\n",
      "BsmtFinType1     42   2.878684\n",
      "BsmtFinType2     42   2.878684\n",
      "MasVnrType       16   1.096642\n",
      "MasVnrArea       15   1.028101\n",
      "MSZoning          4   0.274160\n",
      "Functional        2   0.137080\n",
      "BsmtFullBath      2   0.137080\n",
      "Utilities         2   0.137080\n",
      "BsmtHalfBath      2   0.137080\n",
      "Exterior2nd       1   0.068540\n",
      "SaleType          1   0.068540\n",
      "BsmtFinSF1        1   0.068540\n",
      "Exterior1st       1   0.068540\n",
      "GarageCars        1   0.068540\n",
      "GarageArea        1   0.068540\n",
      "TotalBsmtSF       1   0.068540\n",
      "KitchenQual       1   0.068540\n",
      "BsmtUnfSF         1   0.068540\n",
      "BsmtFinSF2        1   0.068540\n",
      "MiscVal           0   0.000000\n",
      "BedroomAbvGr      0   0.000000\n",
      "KitchenAbvGr      0   0.000000\n",
      "YrSold            0   0.000000\n",
      "TotRmsAbvGrd      0   0.000000\n",
      "MoSold            0   0.000000\n",
      "Fireplaces        0   0.000000\n",
      "***********************************************************************\n",
      "Number of duplicate rows: 0 \n",
      "null row counts: count    33\n",
      "%        33\n",
      "dtype: int64\n"
     ]
    }
   ],
   "source": [
    "#Test Data\n",
    "print(\"List of null values for each column in Test Data: \\n\")\n",
    "Missing_count1 = test_data.isna().sum().sort_values(ascending = False)[:40]\n",
    "missing1 = pd.concat([Missing_count1, (Missing_count1/len(test_data))*100], axis=1, keys = [\"count\", \"%\"])\n",
    "print(missing1.sort_values(by=[\"count\"], ascending = False))\n",
    "print('***********************************************************************')\n",
    "\n",
    "print(f'Number of duplicate rows: {train_data.duplicated().sum()} ')\n",
    "print(f'null row counts: {missing1.astype(bool).sum(axis=0)}')\n",
    "\n"
   ]
  },
  {
   "cell_type": "code",
   "execution_count": 16,
   "id": "bed702d1",
   "metadata": {},
   "outputs": [
    {
     "data": {
      "text/plain": [
       "True"
      ]
     },
     "execution_count": 16,
     "metadata": {},
     "output_type": "execute_result"
    }
   ],
   "source": [
    "train_data['Id'].is_unique"
   ]
  },
  {
   "cell_type": "markdown",
   "id": "52c16af5-50bb-402b-a60f-3427db635f1f",
   "metadata": {},
   "source": [
    "### Replacing the Missing Data \n",
    "\n",
    "\n",
    "#### Train Data\n",
    " we need to adjust for all the null data using the data descriptions"
   ]
  },
  {
   "cell_type": "code",
   "execution_count": 17,
   "id": "a424dcff-c043-4961-a8c9-244af06505ec",
   "metadata": {},
   "outputs": [],
   "source": [
    "# All the following values can have NA filled with None since they are catagorical\n",
    "for i in ('PoolQC','MiscFeature','Alley','Fence','FireplaceQu','GarageType','GarageFinish','GarageCond',\n",
    "          'GarageQual','BsmtQual','BsmtCond', 'BsmtExposure', 'BsmtFinType1', 'BsmtFinType2', 'MasVnrType'):\n",
    "  train_data[i] = train_data[i].fillna('None')\n",
    "#'LotFrontage' is numerical column w/ outliers, so it should be filled with median\n",
    "train_data['LotFrontage']= train_data['LotFrontage'].fillna(train_data.LotFrontage.median())  \n",
    "#GarageYrBlt: Year garage was built can be replaced with mean as it has no outliers\n",
    "train_data['GarageYrBlt'] = train_data['GarageYrBlt'].fillna(train_data.GarageYrBlt.mean())\n",
    "#All the following values can have NA filled with 0 since they are numeric values\n",
    "for i in ('GarageCars','GarageArea','BsmtFinSF1', 'BsmtFinSF2', 'BsmtUnfSF','TotalBsmtSF', 'BsmtFullBath', 'BsmtHalfBath','MasVnrArea'):\n",
    "  train_data[i] = train_data[i].fillna(0)"
   ]
  },
  {
   "cell_type": "code",
   "execution_count": 18,
   "id": "b337ac38-d615-4216-b6ad-1515a3588ebf",
   "metadata": {},
   "outputs": [
    {
     "name": "stdout",
     "output_type": "stream",
     "text": [
      "Value count of all unique values in Electrical:\n",
      "SBrkr    1334\n",
      "FuseA      94\n",
      "FuseF      27\n",
      "FuseP       3\n",
      "Mix         1\n",
      "Name: Electrical, dtype: int64\n",
      "Most Common value in Electrical:\n"
     ]
    },
    {
     "data": {
      "text/plain": [
       "0    SBrkr\n",
       "dtype: object"
      ]
     },
     "execution_count": 18,
     "metadata": {},
     "output_type": "execute_result"
    }
   ],
   "source": [
    "print('Value count of all unique values in Electrical:')\n",
    "print(train_data['Electrical'].value_counts())\n",
    "print('Most Common value in Electrical:')\n",
    "train_data['Electrical'].mode()"
   ]
  },
  {
   "cell_type": "code",
   "execution_count": 19,
   "id": "e18f22bc-6db0-4734-82e3-1169551abd65",
   "metadata": {},
   "outputs": [],
   "source": [
    "#Replace NA with most common catagorical value of this column\n",
    "train_data['Electrical'] = train_data['Electrical'].fillna('SBrkr')"
   ]
  },
  {
   "cell_type": "code",
   "execution_count": 20,
   "id": "d1b11a63",
   "metadata": {},
   "outputs": [],
   "source": [
    "#replace index with Id\n",
    "\n",
    "#train_data.set_index('Id',inplace=True)\n",
    "#train_data.head()"
   ]
  },
  {
   "cell_type": "markdown",
   "id": "a5c127b8-3d6f-4306-8360-94a397a58641",
   "metadata": {},
   "source": [
    "#### Test Data"
   ]
  },
  {
   "cell_type": "code",
   "execution_count": 21,
   "id": "ee780e32",
   "metadata": {},
   "outputs": [],
   "source": [
    "# Test Data needs to get cleaned\n",
    "# All the following values can have NA filled with None since they are catagorical\n",
    "for i in ('PoolQC','MiscFeature','Alley','Fence','FireplaceQu','GarageType','GarageFinish','GarageCond',\n",
    "          'GarageQual','BsmtQual','BsmtCond', 'BsmtExposure', 'BsmtFinType1', 'BsmtFinType2', 'MasVnrType'):\n",
    "  test_data[i] = test_data[i].fillna('None')\n",
    "#'LotFrontage' is numerical column w/ outliers, so it should be filled with median\n",
    "test_data['LotFrontage']= test_data['LotFrontage'].fillna(test_data.LotFrontage.median())  \n",
    "#GarageYrBlt: Year garage was built can be replaced with mean as it has no outliers\n",
    "test_data['GarageYrBlt'] = test_data['GarageYrBlt'].fillna(test_data.GarageYrBlt.mean())\n",
    "#All the following values can have NA filled with 0 since they are numeric values\n",
    "for i in ('GarageCars','GarageArea','BsmtFinSF1', 'BsmtFinSF2', 'BsmtUnfSF','TotalBsmtSF', 'BsmtFullBath', 'BsmtHalfBath','MasVnrArea'):\n",
    "  test_data[i] = test_data[i].fillna(0)\n"
   ]
  },
  {
   "cell_type": "code",
   "execution_count": 22,
   "id": "46129a19-f22b-4eae-9489-27c3c4c166d9",
   "metadata": {},
   "outputs": [
    {
     "name": "stdout",
     "output_type": "stream",
     "text": [
      "Most Common value in Electrical:\n"
     ]
    },
    {
     "data": {
      "text/plain": [
       "0    SBrkr\n",
       "dtype: object"
      ]
     },
     "execution_count": 22,
     "metadata": {},
     "output_type": "execute_result"
    }
   ],
   "source": [
    "#Replace NA with most common catagorical value of column Electrical\n",
    "print('Most Common value in Electrical:')\n",
    "test_data['Electrical'].mode()"
   ]
  },
  {
   "cell_type": "code",
   "execution_count": 23,
   "id": "e8b5740e-b3b4-4b8a-8455-628f20d2897c",
   "metadata": {},
   "outputs": [],
   "source": [
    "test_data['Electrical'] = test_data['Electrical'].fillna('SBrkr')"
   ]
  },
  {
   "cell_type": "code",
   "execution_count": 24,
   "id": "6d815cad-d858-4777-a378-48e203ec2aa9",
   "metadata": {},
   "outputs": [
    {
     "name": "stdout",
     "output_type": "stream",
     "text": [
      "Most Common value in MSZoning:\n"
     ]
    },
    {
     "data": {
      "text/plain": [
       "0    RL\n",
       "dtype: object"
      ]
     },
     "execution_count": 24,
     "metadata": {},
     "output_type": "execute_result"
    }
   ],
   "source": [
    "#Replace NA with most common catagorical value of column Electrical\n",
    "print('Most Common value in MSZoning:')\n",
    "test_data['MSZoning'].mode()\n"
   ]
  },
  {
   "cell_type": "code",
   "execution_count": 25,
   "id": "e9580e5d-9c93-4e55-a422-f21c82ea0253",
   "metadata": {},
   "outputs": [
    {
     "data": {
      "text/plain": [
       "0"
      ]
     },
     "execution_count": 25,
     "metadata": {},
     "output_type": "execute_result"
    }
   ],
   "source": [
    "test_data['MSZoning'] = test_data['MSZoning'].fillna('RL')\n",
    "test_data['MSZoning'].isna().sum()"
   ]
  },
  {
   "cell_type": "code",
   "execution_count": 26,
   "id": "4379933b-e198-4406-8b4f-df6b4441951f",
   "metadata": {},
   "outputs": [
    {
     "data": {
      "text/plain": [
       "0    AllPub\n",
       "dtype: object"
      ]
     },
     "execution_count": 26,
     "metadata": {},
     "output_type": "execute_result"
    }
   ],
   "source": [
    "#Utilities\n",
    "test_data['Utilities'].mode()"
   ]
  },
  {
   "cell_type": "code",
   "execution_count": 27,
   "id": "736fede8-5776-4e6f-a9f3-67146c15c0f2",
   "metadata": {},
   "outputs": [
    {
     "data": {
      "text/plain": [
       "0"
      ]
     },
     "execution_count": 27,
     "metadata": {},
     "output_type": "execute_result"
    }
   ],
   "source": [
    "test_data['Utilities'] = test_data['Utilities'].fillna('AllPub')\n",
    "test_data['Utilities'].isna().sum()"
   ]
  },
  {
   "cell_type": "code",
   "execution_count": 28,
   "id": "1c010430-81ec-4f9e-8933-bebd2aa39258",
   "metadata": {},
   "outputs": [
    {
     "data": {
      "text/plain": [
       "0    Typ\n",
       "dtype: object"
      ]
     },
     "execution_count": 28,
     "metadata": {},
     "output_type": "execute_result"
    }
   ],
   "source": [
    "test_data['Functional'].mode()\n"
   ]
  },
  {
   "cell_type": "code",
   "execution_count": 29,
   "id": "a909760c-26f1-4d08-89cd-41c2fd1df960",
   "metadata": {},
   "outputs": [
    {
     "data": {
      "text/plain": [
       "0"
      ]
     },
     "execution_count": 29,
     "metadata": {},
     "output_type": "execute_result"
    }
   ],
   "source": [
    "test_data['Functional'] = test_data['Functional'].fillna('Typ')\n",
    "test_data['Functional'].isna().sum()\n"
   ]
  },
  {
   "cell_type": "code",
   "execution_count": 30,
   "id": "944d6d2c-0fb1-479f-be36-d87ce7758429",
   "metadata": {},
   "outputs": [
    {
     "data": {
      "text/plain": [
       "0    TA\n",
       "dtype: object"
      ]
     },
     "execution_count": 30,
     "metadata": {},
     "output_type": "execute_result"
    }
   ],
   "source": [
    "test_data['KitchenQual'].mode()\n"
   ]
  },
  {
   "cell_type": "code",
   "execution_count": 31,
   "id": "7aabd43d-61d2-4f64-bd2a-8fe5f5bc1b3b",
   "metadata": {},
   "outputs": [
    {
     "data": {
      "text/plain": [
       "0"
      ]
     },
     "execution_count": 31,
     "metadata": {},
     "output_type": "execute_result"
    }
   ],
   "source": [
    "test_data['KitchenQual'] = test_data['KitchenQual'].fillna('TA')\n",
    "test_data['KitchenQual'].isna().sum()"
   ]
  },
  {
   "cell_type": "code",
   "execution_count": 32,
   "id": "b8bcdb82-98e3-489b-be99-35c8a48a2c99",
   "metadata": {},
   "outputs": [
    {
     "data": {
      "text/plain": [
       "(0    VinylSd\n",
       " dtype: object,\n",
       " 0    VinylSd\n",
       " dtype: object)"
      ]
     },
     "execution_count": 32,
     "metadata": {},
     "output_type": "execute_result"
    }
   ],
   "source": [
    "test_data['Exterior2nd'].mode(), test_data['Exterior1st'].mode()"
   ]
  },
  {
   "cell_type": "code",
   "execution_count": 33,
   "id": "dac3dc32-c28e-4847-a190-7ced2f4b45bf",
   "metadata": {},
   "outputs": [
    {
     "data": {
      "text/plain": [
       "0"
      ]
     },
     "execution_count": 33,
     "metadata": {},
     "output_type": "execute_result"
    }
   ],
   "source": [
    "for i in ('Exterior2nd','Exterior1st'):\n",
    "  test_data[i] = test_data[i].fillna('VinylSd')\n",
    "test_data['Exterior2nd'].isna().sum()"
   ]
  },
  {
   "cell_type": "code",
   "execution_count": 34,
   "id": "892dc928-36d2-42cf-ad23-289e212cb0b1",
   "metadata": {},
   "outputs": [
    {
     "data": {
      "text/plain": [
       "0"
      ]
     },
     "execution_count": 34,
     "metadata": {},
     "output_type": "execute_result"
    }
   ],
   "source": [
    "test_data['Exterior1st'].isna().sum()"
   ]
  },
  {
   "cell_type": "code",
   "execution_count": 35,
   "id": "8b615e70-9afb-411f-8571-f19fbbf816bd",
   "metadata": {},
   "outputs": [
    {
     "data": {
      "text/plain": [
       "0    WD\n",
       "dtype: object"
      ]
     },
     "execution_count": 35,
     "metadata": {},
     "output_type": "execute_result"
    }
   ],
   "source": [
    "test_data['SaleType'].mode()"
   ]
  },
  {
   "cell_type": "code",
   "execution_count": 36,
   "id": "fbabd851-c2ef-4f31-91d0-179843550f62",
   "metadata": {},
   "outputs": [
    {
     "data": {
      "text/plain": [
       "0"
      ]
     },
     "execution_count": 36,
     "metadata": {},
     "output_type": "execute_result"
    }
   ],
   "source": [
    "test_data['SaleType'] = test_data['SaleType'].fillna('WD')\n",
    "test_data['SaleType'].isna().sum()"
   ]
  },
  {
   "cell_type": "markdown",
   "id": "d265ca14",
   "metadata": {},
   "source": [
    "### Recheck For Null values\n"
   ]
  },
  {
   "cell_type": "code",
   "execution_count": 37,
   "id": "c25b6c18-03c8-4b17-b9a1-c8733d43efb0",
   "metadata": {},
   "outputs": [
    {
     "data": {
      "text/html": [
       "<div>\n",
       "<style scoped>\n",
       "    .dataframe tbody tr th:only-of-type {\n",
       "        vertical-align: middle;\n",
       "    }\n",
       "\n",
       "    .dataframe tbody tr th {\n",
       "        vertical-align: top;\n",
       "    }\n",
       "\n",
       "    .dataframe thead th {\n",
       "        text-align: right;\n",
       "    }\n",
       "</style>\n",
       "<table border=\"1\" class=\"dataframe\">\n",
       "  <thead>\n",
       "    <tr style=\"text-align: right;\">\n",
       "      <th></th>\n",
       "      <th>count</th>\n",
       "      <th>%</th>\n",
       "    </tr>\n",
       "  </thead>\n",
       "  <tbody>\n",
       "    <tr>\n",
       "      <th>Id</th>\n",
       "      <td>0</td>\n",
       "      <td>0.0</td>\n",
       "    </tr>\n",
       "    <tr>\n",
       "      <th>CentralAir</th>\n",
       "      <td>0</td>\n",
       "      <td>0.0</td>\n",
       "    </tr>\n",
       "    <tr>\n",
       "      <th>GarageYrBlt</th>\n",
       "      <td>0</td>\n",
       "      <td>0.0</td>\n",
       "    </tr>\n",
       "    <tr>\n",
       "      <th>GarageType</th>\n",
       "      <td>0</td>\n",
       "      <td>0.0</td>\n",
       "    </tr>\n",
       "    <tr>\n",
       "      <th>...</th>\n",
       "      <td>...</td>\n",
       "      <td>...</td>\n",
       "    </tr>\n",
       "    <tr>\n",
       "      <th>MasVnrType</th>\n",
       "      <td>0</td>\n",
       "      <td>0.0</td>\n",
       "    </tr>\n",
       "    <tr>\n",
       "      <th>Exterior2nd</th>\n",
       "      <td>0</td>\n",
       "      <td>0.0</td>\n",
       "    </tr>\n",
       "    <tr>\n",
       "      <th>Exterior1st</th>\n",
       "      <td>0</td>\n",
       "      <td>0.0</td>\n",
       "    </tr>\n",
       "    <tr>\n",
       "      <th>SalePrice</th>\n",
       "      <td>0</td>\n",
       "      <td>0.0</td>\n",
       "    </tr>\n",
       "  </tbody>\n",
       "</table>\n",
       "<p>81 rows × 2 columns</p>\n",
       "</div>"
      ],
      "text/plain": [
       "             count    %\n",
       "Id               0  0.0\n",
       "CentralAir       0  0.0\n",
       "GarageYrBlt      0  0.0\n",
       "GarageType       0  0.0\n",
       "...            ...  ...\n",
       "MasVnrType       0  0.0\n",
       "Exterior2nd      0  0.0\n",
       "Exterior1st      0  0.0\n",
       "SalePrice        0  0.0\n",
       "\n",
       "[81 rows x 2 columns]"
      ]
     },
     "execution_count": 37,
     "metadata": {},
     "output_type": "execute_result"
    }
   ],
   "source": [
    "pd.set_option('display.max_rows', 8)\n",
    "\n",
    "\n",
    "missing_train = pd.concat([train_data.isna().sum().sort_values(ascending = False), (train_data.isna().sum().sort_values(ascending = False)/len(train_data))*100], axis=1, keys = [\"count\", \"%\"])\n",
    "\n",
    "missing_test = pd.concat([test_data.isna().sum().sort_values(ascending = False), (test_data.isna().sum().sort_values(ascending = False)/len(test_data))*100], axis=1, keys = [\"count\", \"%\"])\n",
    "\n",
    "missing_train"
   ]
  },
  {
   "cell_type": "code",
   "execution_count": 38,
   "id": "75fe3dc5-5511-4bf4-bd53-0731bc0ae687",
   "metadata": {},
   "outputs": [
    {
     "data": {
      "text/html": [
       "<div>\n",
       "<style scoped>\n",
       "    .dataframe tbody tr th:only-of-type {\n",
       "        vertical-align: middle;\n",
       "    }\n",
       "\n",
       "    .dataframe tbody tr th {\n",
       "        vertical-align: top;\n",
       "    }\n",
       "\n",
       "    .dataframe thead th {\n",
       "        text-align: right;\n",
       "    }\n",
       "</style>\n",
       "<table border=\"1\" class=\"dataframe\">\n",
       "  <thead>\n",
       "    <tr style=\"text-align: right;\">\n",
       "      <th></th>\n",
       "      <th>count</th>\n",
       "      <th>%</th>\n",
       "    </tr>\n",
       "  </thead>\n",
       "  <tbody>\n",
       "    <tr>\n",
       "      <th>Id</th>\n",
       "      <td>0</td>\n",
       "      <td>0.0</td>\n",
       "    </tr>\n",
       "    <tr>\n",
       "      <th>MSSubClass</th>\n",
       "      <td>0</td>\n",
       "      <td>0.0</td>\n",
       "    </tr>\n",
       "    <tr>\n",
       "      <th>GarageType</th>\n",
       "      <td>0</td>\n",
       "      <td>0.0</td>\n",
       "    </tr>\n",
       "    <tr>\n",
       "      <th>FireplaceQu</th>\n",
       "      <td>0</td>\n",
       "      <td>0.0</td>\n",
       "    </tr>\n",
       "    <tr>\n",
       "      <th>...</th>\n",
       "      <td>...</td>\n",
       "      <td>...</td>\n",
       "    </tr>\n",
       "    <tr>\n",
       "      <th>Exterior2nd</th>\n",
       "      <td>0</td>\n",
       "      <td>0.0</td>\n",
       "    </tr>\n",
       "    <tr>\n",
       "      <th>Exterior1st</th>\n",
       "      <td>0</td>\n",
       "      <td>0.0</td>\n",
       "    </tr>\n",
       "    <tr>\n",
       "      <th>RoofMatl</th>\n",
       "      <td>0</td>\n",
       "      <td>0.0</td>\n",
       "    </tr>\n",
       "    <tr>\n",
       "      <th>SaleCondition</th>\n",
       "      <td>0</td>\n",
       "      <td>0.0</td>\n",
       "    </tr>\n",
       "  </tbody>\n",
       "</table>\n",
       "<p>80 rows × 2 columns</p>\n",
       "</div>"
      ],
      "text/plain": [
       "               count    %\n",
       "Id                 0  0.0\n",
       "MSSubClass         0  0.0\n",
       "GarageType         0  0.0\n",
       "FireplaceQu        0  0.0\n",
       "...              ...  ...\n",
       "Exterior2nd        0  0.0\n",
       "Exterior1st        0  0.0\n",
       "RoofMatl           0  0.0\n",
       "SaleCondition      0  0.0\n",
       "\n",
       "[80 rows x 2 columns]"
      ]
     },
     "execution_count": 38,
     "metadata": {},
     "output_type": "execute_result"
    }
   ],
   "source": [
    "missing_test"
   ]
  },
  {
   "cell_type": "markdown",
   "id": "77a650df-0a40-4d7a-b283-ea144a4a607b",
   "metadata": {},
   "source": [
    "## SAVE DATA"
   ]
  },
  {
   "cell_type": "code",
   "execution_count": 39,
   "id": "272f4459-f6af-46f8-8c8f-1286f780a2e7",
   "metadata": {},
   "outputs": [
    {
     "name": "stdout",
     "output_type": "stream",
     "text": [
      "A file already exists with this name.\n",
      "\n"
     ]
    },
    {
     "name": "stdin",
     "output_type": "stream",
     "text": [
      "Do you want to overwrite? (Y/N) y\n"
     ]
    },
    {
     "name": "stdout",
     "output_type": "stream",
     "text": [
      "Writing file.  \"../data/train_data-cleaned.csv\"\n",
      "A file already exists with this name.\n",
      "\n"
     ]
    },
    {
     "name": "stdin",
     "output_type": "stream",
     "text": [
      "Do you want to overwrite? (Y/N) y\n"
     ]
    },
    {
     "name": "stdout",
     "output_type": "stream",
     "text": [
      "Writing file.  \"../data/test_data-cleaned.csv\"\n"
     ]
    }
   ],
   "source": [
    "datapath = '../data'\n",
    "save_file(train_data, 'train_data-cleaned.csv', datapath)\n",
    "save_file(test_data, 'test_data-cleaned.csv', datapath)"
   ]
  }
 ],
 "metadata": {
  "kernelspec": {
   "display_name": "Python 3 (ipykernel)",
   "language": "python",
   "name": "python3"
  },
  "language_info": {
   "codemirror_mode": {
    "name": "ipython",
    "version": 3
   },
   "file_extension": ".py",
   "mimetype": "text/x-python",
   "name": "python",
   "nbconvert_exporter": "python",
   "pygments_lexer": "ipython3",
   "version": "3.9.6"
  }
 },
 "nbformat": 4,
 "nbformat_minor": 5
}
